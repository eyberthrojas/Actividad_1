{
  "nbformat": 4,
  "nbformat_minor": 0,
  "metadata": {
    "colab": {
      "provenance": []
    },
    "kernelspec": {
      "name": "python3",
      "display_name": "Python 3"
    },
    "language_info": {
      "name": "python"
    }
  },
  "cells": [
    {
      "cell_type": "markdown",
      "source": [
        "## Actividad 1: Generación de ETL\n",
        "\n",
        "El proceso de ETL (Extract, Transform an Load) es escencial en el uso de modelos de \"machine learning\", este proceso se encarga de la preparación de los datos para el proceso de entrenamiento de los modelos. El proceso de ETL es crítico para el éxito de cualquier proyecto de Machine Learning, ya que los modelos solo son tan buenos como los datos que se utilizan para entrenarlos. Por lo tanto, la calidad de los datos y la precisión del proceso de ETL son esenciales para la obtención de resultados precisos y confiables.\n",
        "\n",
        "En la presente actividad prepararemos un dataset con informacion de los precios de alquiler de casas/apartamentos para la ciudad de Seatle según AirBNB, a partir de este dataset se podría entrenar un modelo capas de estimar el valor del alquiler de un inmueble y por ejemplo publicarlo en Airbnb"
      ],
      "metadata": {
        "id": "3EJvQ_kdOhQH"
      }
    },
    {
      "cell_type": "code",
      "source": [
        "# Dython es una libreria que nos ayuda a encontrar el grado de correlación que existen entre las variables, no viene instalado en las instancias de colab, pero se puede instalar facilmente, depende de nyumpy 1.23.0\n",
        "!pip install numpy==1.23.0 \n",
        "!pip install dython"
      ],
      "metadata": {
        "id": "nlZRsjBOOece"
      },
      "execution_count": null,
      "outputs": []
    },
    {
      "cell_type": "markdown",
      "source": [
        "## Imports \n",
        "Librerias que se necesitan para el desarrollo de la actividad"
      ],
      "metadata": {
        "id": "0D2Pc2egTrxf"
      }
    },
    {
      "cell_type": "code",
      "execution_count": null,
      "metadata": {
        "id": "8ybSgqM8Av49"
      },
      "outputs": [],
      "source": [
        "import datetime\n",
        "\n",
        "import numpy as np\n",
        "import pandas as pd\n",
        "\n",
        "from dython import nominal"
      ]
    },
    {
      "cell_type": "markdown",
      "source": [
        "#### Configurando pandas para visualización de 100 columnas"
      ],
      "metadata": {
        "id": "TSFTf34jC6az"
      }
    },
    {
      "cell_type": "code",
      "source": [
        "pd.options.display.max_columns = 100"
      ],
      "metadata": {
        "id": "5F8FT13TC32h"
      },
      "execution_count": null,
      "outputs": []
    },
    {
      "cell_type": "markdown",
      "source": [
        "### Extracción de dataset sin preprocesamiento\n",
        "El dataset es un archivo .csv y se encuantra alojado en el siguiente repositorio de GitHub: \n",
        "[repositorio](https://github.com/eyberthrojas/Actividad_1.git), pero lo podemos extraer directamente como un \"dataframe\" de pandas:"
      ],
      "metadata": {
        "id": "pdSbSeJtUB5b"
      }
    },
    {
      "cell_type": "code",
      "source": [
        "path = 'https://raw.githubusercontent.com/eyberthrojas/Actividad_1/main/Airbnd_seatle_listings.csv'\n",
        "df = pd.read_csv(path, on_bad_lines='skip')"
      ],
      "metadata": {
        "id": "sbBugss5A1ag"
      },
      "execution_count": null,
      "outputs": []
    },
    {
      "cell_type": "code",
      "source": [
        "# Tamaño del dataset:\n",
        "print(f'Cantidad de filas o registros = {df.shape[0]}')\n",
        "print(f'Cantidad de columnas o variables = {df.shape[1]}')"
      ],
      "metadata": {
        "id": "sJdK2hIjaCN6"
      },
      "execution_count": null,
      "outputs": []
    },
    {
      "cell_type": "code",
      "source": [
        "# Nombre de las variables(columnas) del dataframe\n",
        "print('Nombre de las columnas: ')\n",
        "df.columns"
      ],
      "metadata": {
        "id": "cpfFofadVseT"
      },
      "execution_count": null,
      "outputs": []
    },
    {
      "cell_type": "code",
      "source": [
        "# Primeros tres registros del dataframe\n",
        "df.head(3)"
      ],
      "metadata": {
        "id": "5WrVNXSLA-cA"
      },
      "execution_count": null,
      "outputs": []
    },
    {
      "cell_type": "markdown",
      "source": [
        "La tabla anterior nos muestra las columnas numéricas del dataset, responda las preguntas  "
      ],
      "metadata": {
        "id": "Gh5MJmdZ2jww"
      }
    },
    {
      "cell_type": "markdown",
      "source": [
        "## Ajuste de variables\n",
        "Antes que nada, como vemos existen columnas como `host_response_rate` que tienen simbolos ('%', '$') que representan un tipo de cantidad numérica, pero en si, las variables deberian ser numéricas y así las debemos tratar. Con pandas se tratan de tipo str, por lo que se pueden adecuar para que sean numéricas"
      ],
      "metadata": {
        "id": "ML3E1V_AMREZ"
      }
    },
    {
      "cell_type": "markdown",
      "source": [
        "### Eliminando porcentaje\n",
        "\n",
        "Como sabemos que la columna es de tipo str, podemos aplicar el metodo replace para columnas de tipo str. Con esto podemos eliminar el caracter \"%\", lo convertimos a float y por último se divide en 100 para que queden valores estandar entre 0 y 1\n"
      ],
      "metadata": {
        "id": "61c9xpeRXInv"
      }
    },
    {
      "cell_type": "code",
      "source": [
        "df['host_response_rate'] = df['host_response_rate'].str.replace(\"%\",\"\").astype(float)/100\n",
        "df['host_acceptance_rate'] = df['host_acceptance_rate'].str.replace(\"%\",\"\").astype(float)/100\n"
      ],
      "metadata": {
        "id": "eS56ukfqBPGn"
      },
      "execution_count": null,
      "outputs": []
    },
    {
      "cell_type": "markdown",
      "source": [
        "### Eliminando tipo moneda\n",
        "\n",
        "Al igual que con el porcentaje \"%\", el signo de moneda tambien se podria eliminar para que las columnan que muestran precio queden de tipo numérico\n",
        "Cómo sabemos que la columna es de tipo str, podemos aplicar el metodo replace para columnas de tipo str. Con esto podemos eliminar el caracter \"%\", lo convertimos a float y por último se divide en 100 para que queden valores estandar entre 0 y 1"
      ],
      "metadata": {
        "id": "Z8YHNaCpZlIe"
      }
    },
    {
      "cell_type": "code",
      "source": [
        "df['price'] = df['price'].str.replace(\",\",\"\").str.replace(\"$\",\"\").astype(float)\n",
        "df['security_deposit'] = df['security_deposit'].str.replace(\",\",\"\").str.replace(\"$\",\"\").astype(float)\n",
        "df['cleaning_fee'] = df['cleaning_fee'].str.replace(\",\",\"\").str.replace(\"$\",\"\").astype(float)\n",
        "df['extra_people'] = df['extra_people'].str.replace(\",\",\"\").str.replace(\"$\",\"\").astype(float)"
      ],
      "metadata": {
        "id": "crqTIS2BBVAN"
      },
      "execution_count": null,
      "outputs": []
    },
    {
      "cell_type": "markdown",
      "source": [
        "Por otro lado, existen columns que son de tipo bool pero esdtán tabuladas como 't' o 'f', también se puden pasar este tipo de variables a tipo bool de pandas. Cómo son varias realizamos un bucle con las columnas que queremos procesar:"
      ],
      "metadata": {
        "id": "jeVa6TcLfnop"
      }
    },
    {
      "cell_type": "code",
      "source": [
        "columns_to_bolean = [\n",
        "    'host_is_superhost', 'host_has_profile_pic', 'host_identity_verified', \n",
        "    'is_location_exact', 'has_availability', 'requires_license', 'instant_bookable', \n",
        "    'require_guest_profile_picture', 'require_guest_phone_verification'\n",
        "]\n",
        "for name in columns_to_bolean:\n",
        "  df[name] = df[name].apply(lambda x: 1 if x=='t' else 0 if x=='f' else None)"
      ],
      "metadata": {
        "id": "6alXpu4hFF1X"
      },
      "execution_count": null,
      "outputs": []
    },
    {
      "cell_type": "markdown",
      "source": [
        "Para finalizar, existen variables de fecha que nos podrian servir, pero debemos acondicionarla para que sea útil la información.\n",
        "\n",
        "Por ejemplo la variables `host_since`, `first_review` y `last_review` se refieren a fechas, desde cuando es anfitrion, cuando fue el primer y el último review del inmueble. De pronto nos sirve la cantidad de dias que lleva como host, o por ejemplo hace cuantos dias fue el último review: "
      ],
      "metadata": {
        "id": "ceavXTaZ_nWu"
      }
    },
    {
      "cell_type": "code",
      "source": [
        "today = pd.to_datetime(datetime.date.today())\n",
        "\n",
        "df['host_since'] = (today - pd.to_datetime(df['host_since'])).dt.days\n",
        "df['first_review'] = (today - pd.to_datetime(df['first_review'])).dt.days\n",
        "df['last_review'] = (today - pd.to_datetime(df['last_review'])).dt.days\n"
      ],
      "metadata": {
        "id": "NSzrAvzQE3bs"
      },
      "execution_count": null,
      "outputs": []
    },
    {
      "cell_type": "code",
      "source": [
        "df.head()"
      ],
      "metadata": {
        "id": "ZSdIFvKCdbbT"
      },
      "execution_count": null,
      "outputs": []
    },
    {
      "cell_type": "markdown",
      "source": [
        "### Metodo describe de pandas\n",
        "El método `describe()` de pandas es una función que se utiliza para obtener estadísticas descriptivas de un DataFrame o una Serie de pandas. Esta función calcula y muestra varios estadísticos de resumen de los datos, como la media, la desviación estándar, los percentiles y los valores mínimos y máximos.\n",
        "\n",
        "Algunos de los estadísticos que se muestran con el método `describe()` son:\n",
        "\n",
        "- `count`: número de valores no nulos.\\\n",
        "- `mean`: promedio de los valores.\\\n",
        "- `std`: desviación estándar de los valores.\\\n",
        "- `min`: valor mínimo.\\\n",
        "- `25%`: percentil 25 (el valor por debajo del cual cae el 25% de los datos).\\\n",
        "- `50%`: percentil 50, también conocido como la mediana.\\\n",
        "- `75%`: percentil 75 (el valor por debajo del cual cae el 75% de los datos).\\\n",
        "- `max`: valor máximo.\n",
        "\n",
        "Por defecto, `describe()` sólo muestra estadísticos para columnas numéricas, aunque se puede utilizar el parámetro include para incluir columnas de otros tipos de datos, como cadenas de caracteres.\n"
      ],
      "metadata": {
        "id": "-K-ha6fqaiSs"
      }
    },
    {
      "cell_type": "code",
      "source": [
        "df.describe()"
      ],
      "metadata": {
        "id": "83Bhm2VhVfmD"
      },
      "execution_count": null,
      "outputs": []
    },
    {
      "cell_type": "markdown",
      "source": [
        "A partir de esta tabla, que describe las variables numéricas, responda las pregundas de 1-7"
      ],
      "metadata": {
        "id": "UukuVmxhgvTG"
      }
    },
    {
      "cell_type": "markdown",
      "source": [
        "### Variables categóricas\n",
        "Las variables categóricas nos sirven para describir datos que se pueden clasificar en grupos o categorías específicas, dentro de nuestro dataset se encuentran 2 columnas de eeste tipo, por ejemplo `property_type`, que hace alusión al tipo de propiedad,\n",
        "la función `value_counts` nos muestra las categorias que tiene la variable y la cantidad (si se quiere normalizar se asigna al parámetro, `normalize`= True):"
      ],
      "metadata": {
        "id": "_NEkxHWmzK_b"
      }
    },
    {
      "cell_type": "code",
      "source": [
        "# Distribución de datos de la variable 'property_type'\n",
        "df['property_type'].value_counts(normalize=False)"
      ],
      "metadata": {
        "id": "N9SyjuX42Fkg"
      },
      "execution_count": null,
      "outputs": []
    },
    {
      "cell_type": "code",
      "source": [
        "df['property_type'].value_counts(normalize=True).head(5).plot.pie(autopct='%1.1f%%')"
      ],
      "metadata": {
        "id": "rUjKHTKMzKNC"
      },
      "execution_count": null,
      "outputs": []
    },
    {
      "cell_type": "markdown",
      "source": [
        "Para esta variable, los casos se distribuyen la mayoria entre casas (47%) y apartamentos (46.3%), ¿que otras variables son categoricas y cómo se distribuyen? "
      ],
      "metadata": {
        "id": "2DZKQ1UX3QFn"
      }
    },
    {
      "cell_type": "code",
      "source": [
        "# Que categorias y cuantas de cada una exixten en la variable categórica restante?\n",
        "#Digite el codigo aquí:\n"
      ],
      "metadata": {
        "id": "5fBXq40P3Mg2"
      },
      "execution_count": null,
      "outputs": []
    },
    {
      "cell_type": "code",
      "source": [
        "# Diagrama de torta\n",
        "#Digite el codigo aquí:\n"
      ],
      "metadata": {
        "id": "ZoOdPOZMYTov"
      },
      "execution_count": null,
      "outputs": []
    },
    {
      "cell_type": "markdown",
      "source": [
        "Responda pregunta 8"
      ],
      "metadata": {
        "id": "qDSJXWdzknEs"
      }
    },
    {
      "cell_type": "markdown",
      "source": [
        "## Correlación entre columnas\n",
        "La libreria dython nos ayuda a encontrar la correlación entre las columnas de un dataframe de pandas, no importa que sen noméricas o categoricas:"
      ],
      "metadata": {
        "id": "Yf_rCV8EVDVf"
      }
    },
    {
      "cell_type": "code",
      "source": [
        "correlation = nominal.associations(df, figsize=(20,10), mark_columns=True, annot=False)"
      ],
      "metadata": {
        "id": "r-g0DEX5NjEC"
      },
      "execution_count": null,
      "outputs": []
    },
    {
      "cell_type": "markdown",
      "source": [
        "Entre mas oscuro sea el color menos correlación hay entre dos columnas, por ejemplo 'host_since' se correlaciona muy poco con 'reviews_per_month', y viceversa, sie la correlación se acerca a amarillo indica que hay una alta correlación, y si se acerca a cyan indica que hay una alta correlación pero es negativa.\n",
        "La variable correlation que nos entrega dython es la matriz de correlación y esta dada como un DataFrame de pandas. "
      ],
      "metadata": {
        "id": "-PwllSAyVYCU"
      }
    },
    {
      "cell_type": "code",
      "source": [
        "correlation['corr']"
      ],
      "metadata": {
        "id": "Ylk7owj2O5cb"
      },
      "execution_count": null,
      "outputs": []
    },
    {
      "cell_type": "markdown",
      "source": [
        "## Correlación de las variables respecto a la variable precio, se encuentra ordenado de forma descendente la importancia de las variables para la predicción del precio del alquiler de un inmueble en Airbnb Seatle"
      ],
      "metadata": {
        "id": "rhJ9JiIeTycd"
      }
    },
    {
      "cell_type": "code",
      "source": [
        "correlation['corr'].loc['price (con)',:].abs().sort_values(ascending=False)"
      ],
      "metadata": {
        "id": "bobF00UXSpoB"
      },
      "execution_count": null,
      "outputs": []
    },
    {
      "cell_type": "markdown",
      "source": [
        "Responda preguntas 9 y 10"
      ],
      "metadata": {
        "id": "SBAaPyINkr0z"
      }
    },
    {
      "cell_type": "code",
      "source": [],
      "metadata": {
        "id": "0MoxuJPRkvTN"
      },
      "execution_count": null,
      "outputs": []
    }
  ]
}